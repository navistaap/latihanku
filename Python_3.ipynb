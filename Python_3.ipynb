{
  "nbformat": 4,
  "nbformat_minor": 0,
  "metadata": {
    "colab": {
      "provenance": []
    },
    "kernelspec": {
      "name": "python3",
      "display_name": "Python 3"
    },
    "language_info": {
      "name": "python"
    }
  },
  "cells": [
    {
      "cell_type": "markdown",
      "source": [
        "**Weekly Exercise 1**"
      ],
      "metadata": {
        "id": "mslyM9FnhHlI"
      }
    },
    {
      "cell_type": "code",
      "source": [
        "!mkdir -p /resources/data"
      ],
      "metadata": {
        "id": "ht2TCJ0fwP3I"
      },
      "execution_count": null,
      "outputs": []
    },
    {
      "cell_type": "code",
      "source": [
        "with open('/resources/data/Biodata.txt', 'w') as writefile:\n",
        "    writefile.write(\"Nama          : Navista Andara Putri\\n\")\n",
        "    writefile.write(\"Program Studi : Teknologi Informasi\\n\")\n",
        "    writefile.write(\"NPM           : 2440506059\\n\")\n",
        "    writefile.write(\"Alamat        : Jl Dumpoh Raya\\n\")\n",
        "    writefile.write(\"Hobi          : Mendengar musik\\n\")\n",
        "    writefile.write(\"Email         : navistaandaraputri@gmail.com\\n\")\n",
        "\n",
        "with open('/resources/data/Biodata.txt', 'r') as testwritefile:\n",
        "    print(testwritefile.read())"
      ],
      "metadata": {
        "colab": {
          "base_uri": "https://localhost:8080/"
        },
        "id": "KobyGYjdgIrl",
        "outputId": "1d026563-406c-4110-d09d-7c0b13b73e64"
      },
      "execution_count": null,
      "outputs": [
        {
          "output_type": "stream",
          "name": "stdout",
          "text": [
            "Nama          : Navista Andara Putri\n",
            "Program Studi : Teknologi Informasi\n",
            "NPM           : 2440506059\n",
            "Alamat        : Jl Dumpoh Raya\n",
            "Hobi          : Mendengar musik\n",
            "Email         : navistaandaraputri@gmail.com\n",
            "\n"
          ]
        }
      ]
    },
    {
      "cell_type": "code",
      "source": [
        "with open('/resources/data/Biodata.txt', 'r') as testwritefile:\n",
        "      for line in testwritefile:\n",
        "        if \"Nama\" in line or \"Program Studi\" in line or \"Email\" in line:\n",
        "          print(line.strip())"
      ],
      "metadata": {
        "colab": {
          "base_uri": "https://localhost:8080/"
        },
        "id": "CndA-aP5rLVG",
        "outputId": "d0ae7edb-77f3-4be3-9acf-f1e0ac941b09"
      },
      "execution_count": null,
      "outputs": [
        {
          "output_type": "stream",
          "name": "stdout",
          "text": [
            "Nama          : Navista Andara Putri\n",
            "Program Studi : Teknologi Informasi\n",
            "Email         : navistaandaraputri@gmail.com\n"
          ]
        }
      ]
    },
    {
      "cell_type": "code",
      "source": [
        "with open('/resources/data/Biodata.txt', 'r') as readfile:\n",
        "  with open('/resources/data/Biodata-Baru.txt', 'w') as writefile:\n",
        "    for line in readfile:\n",
        "            writefile.write(line)\n",
        "\n",
        "with open('/resources/data/Biodata-Baru.txt', 'r') as testwritefile:\n",
        "    for line in testwritefile:\n",
        "      if \"Nama\" in line or \"NPM\" in line or \"Program Studi\" in line or \"Alamat\" in line:\n",
        "        print(line.strip())"
      ],
      "metadata": {
        "colab": {
          "base_uri": "https://localhost:8080/"
        },
        "id": "VNDH8IoMru91",
        "outputId": "f23c7e8c-2c33-47b2-883e-be77b05eff1b"
      },
      "execution_count": null,
      "outputs": [
        {
          "output_type": "stream",
          "name": "stdout",
          "text": [
            "Nama          : Navista Andara Putri\n",
            "Program Studi : Teknologi Informasi\n",
            "NPM           : 2440506059\n",
            "Alamat        : Jl Dumpoh Raya\n"
          ]
        }
      ]
    },
    {
      "cell_type": "markdown",
      "source": [
        "Weekly Exercise 2"
      ],
      "metadata": {
        "id": "v_TMobDH-wdU"
      }
    },
    {
      "cell_type": "code",
      "execution_count": null,
      "metadata": {
        "colab": {
          "base_uri": "https://localhost:8080/"
        },
        "id": "R5TfGKhd-u5X",
        "outputId": "c610d070-5954-418c-d3f8-f4204ee030fe"
      },
      "outputs": [
        {
          "output_type": "stream",
          "name": "stdout",
          "text": [
            "Selamat Datang di Toko Maju Jaya\n",
            "Senin, 4 September 2024    13.05\n",
            " \n",
            "DAFTAR BELANJA:\n",
            "Sabun = Rp 10000\n",
            "Shampo = Rp 15000\n",
            "Mie Instan = Rp 5000\n",
            "Detergen = Rp 17500\n",
            " \n",
            "Total = Rp 47500\n"
          ]
        }
      ],
      "source": [
        "print('Selamat Datang di Toko Maju Jaya')\n",
        "print('Senin, 4 September 2024    13.05')\n",
        "print(' ')\n",
        "\n",
        "print('DAFTAR BELANJA:')\n",
        "item1 = 'Sabun'\n",
        "item2 = 'Shampo'\n",
        "item3 = 'Mie Instan'\n",
        "item4 = 'Detergen'\n",
        "harga1 = 10000\n",
        "harga2 = 15000\n",
        "harga3 = 5000\n",
        "harga4 = 17500\n",
        "\n",
        "total = harga1 + harga2 + harga3 + harga4\n",
        "\n",
        "print(item1, '= Rp', + harga1)\n",
        "print(item2, '= Rp', + harga2)\n",
        "print(item3, '= Rp', + harga3)\n",
        "print(item4, '= Rp', + harga4)\n",
        "\n",
        "print(' ')\n",
        "print('Total = Rp', total)\n",
        "\n",
        "with open('Kuitansi.txt', 'w') as writefile:\n",
        "    writefile.write(\"Selamat Datang di Toko Maju Jaya\\n\")\n",
        "    writefile.write(\"\\n\")\n",
        "    writefile.write(\"Kuitansi - 4 September 2023\\n\")\n",
        "    writefile.write(\"\\n\")\n",
        "    writefile.write(item1 + \" = Rp \" + str(harga1) + \"\\n\")\n",
        "    writefile.write(item2 + \" = Rp \" + str(harga2) + \"\\n\")\n",
        "    writefile.write(item3 + \" = Rp \" + str(harga3) + \"\\n\")\n",
        "    writefile.write(item4 + \" = Rp \" + str(harga4) + \"\\n\")\n",
        "    writefile.write(\"\\n\")\n",
        "    writefile.write(\"Total Belanja =\" + str(total))"
      ]
    }
  ]
}