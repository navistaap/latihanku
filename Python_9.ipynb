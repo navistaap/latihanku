{
  "nbformat": 4,
  "nbformat_minor": 0,
  "metadata": {
    "colab": {
      "provenance": []
    },
    "kernelspec": {
      "name": "python3",
      "display_name": "Python 3"
    },
    "language_info": {
      "name": "python"
    }
  },
  "cells": [
    {
      "cell_type": "code",
      "execution_count": 6,
      "metadata": {
        "colab": {
          "base_uri": "https://localhost:8080/"
        },
        "id": "pgJLuZXuHLNl",
        "outputId": "48b4a79c-c7f6-4cf6-86f5-522d3980385c"
      },
      "outputs": [
        {
          "output_type": "stream",
          "name": "stdout",
          "text": [
            "nama: Navista Andara Putri\n",
            "rombel: 3\n",
            "tanggal_lahir: 03-11-2006\n",
            "no_hp: 081234567890\n",
            "alamat: Jl. Dumpoh\n",
            "hobi:\n",
            " 1. Dengar Musik\n",
            " 2. Nonton Film\n",
            " 3. Makan\n",
            " 4. Jalan-jalan\n"
          ]
        }
      ],
      "source": [
        "mahasiswa = {\n",
        "    \"nama\": \"Navista Andara Putri\",\n",
        "    \"rombel\": \"3\",\n",
        "    \"tanggal_lahir\": \"03-11-2006\",\n",
        "    \"no_hp\": \"081234567890\",\n",
        "    \"alamat\": \"Jl. Dumpoh\",\n",
        "    \"hobi\": [\"Dengar Musik\", \"Nonton Film\", \"Makan\", \"Jalan-jalan\"]\n",
        "    }\n",
        "\n",
        "for key, value in mahasiswa.items():\n",
        "  if isinstance(value, list):\n",
        "    print(f\"{key}:\")\n",
        "    for index, hobi in enumerate(value, start=1):\n",
        "      print(f\" {index}. {hobi}\")\n",
        "  else:\n",
        "    print(f\"{key}: {value}\")"
      ]
    }
  ]
}