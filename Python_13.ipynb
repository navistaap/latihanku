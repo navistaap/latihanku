{
  "nbformat": 4,
  "nbformat_minor": 0,
  "metadata": {
    "colab": {
      "provenance": []
    },
    "kernelspec": {
      "name": "python3",
      "display_name": "Python 3"
    },
    "language_info": {
      "name": "python"
    }
  },
  "cells": [
    {
      "cell_type": "code",
      "source": [
        "class AlatTulis:\n",
        "    def __init__(self, nama, stok, harga_satuan):\n",
        "        self.nama = nama\n",
        "        self.stok = stok\n",
        "        self.harga_satuan = harga_satuan\n",
        "        self.total_harga = stok * harga_satuan\n",
        "\n",
        "\n",
        "    def set_nama(self, nama):\n",
        "        self.nama = nama\n",
        "\n",
        "    def set_stok(self, stok):\n",
        "        self.stok = stok\n",
        "        self.total_harga = stok * self.harga_satuan\n",
        "\n",
        "    def set_harga_satuan(self, harga_satuan):\n",
        "        self.harga_satuan = harga_satuan\n",
        "        self.total_harga = self.stok * harga_satuan\n",
        "\n",
        "\n",
        "    def get_nama(self):\n",
        "        return self.nama\n",
        "\n",
        "    def get_stok(self):\n",
        "        return self.stok\n",
        "\n",
        "    def get_harga_satuan(self):\n",
        "        return self.harga_satuan\n",
        "\n",
        "    def get_total_harga(self):\n",
        "        return self.total_harga\n",
        "\n",
        "    def transaksi(self, jumlah):\n",
        "        if jumlah <= self.stok:\n",
        "            self.stok -= jumlah\n",
        "            total_transaksi = jumlah * self.harga_satuan\n",
        "            self.total_harga = self.stok * self.harga_satuan\n",
        "            print(f\"Transaksi berhasil! Total harga: {total_transaksi}\")\n",
        "        else:\n",
        "            print(\"Stok tidak cukup untuk transaksi ini.\")\n",
        "\n",
        "\n",
        "if __name__ == \"__main__\":\n",
        "    bolpoint = AlatTulis(\"Bolpoint\", 10, 2000)\n",
        "    pensil = AlatTulis(\"Pensil\", 10, 1000)\n",
        "    penghapus = AlatTulis(\"Penghapus\", 10, 500)\n",
        "\n",
        "    print(\"\\nInformasi Alat Tulis:\")\n",
        "    print(f\"Nama: {bolpoint.get_nama()}, Stok: {bolpoint.get_stok()}, Harga Satuan: {bolpoint.get_harga_satuan()}\")\n",
        "    print(f\"Nama: {pensil.get_nama()}, Stok: {pensil.get_stok()}, Harga Satuan: {pensil.get_harga_satuan()}\")\n",
        "    print(f\"Nama: {penghapus.get_nama()}, Stok: {penghapus.get_stok()}, Harga Satuan: {penghapus.get_harga_satuan()}\")\n",
        "\n",
        "    jumlah_bolpoint = int(input(f\"\\nMasukkan jumlah bolpoint yang ingin dibeli (stok tersedia: {bolpoint.get_stok()}): \"))\n",
        "    bolpoint.transaksi(jumlah_bolpoint)\n",
        "\n",
        "    jumlah_pensil = int(input(f\"Masukkan jumlah pensil yang ingin dibeli (stok tersedia: {pensil.get_stok()}): \"))\n",
        "    pensil.transaksi(jumlah_pensil)\n",
        "\n",
        "    jumlah_penghapus = int(input(f\"Masukkan jumlah penghapus yang ingin dibeli (stok tersedia: {penghapus.get_stok()}): \"))\n",
        "    penghapus.transaksi(jumlah_penghapus)\n",
        "\n",
        "    print(\"\\nStok setelah transaksi:\")\n",
        "    print(f\"Bolpoint: {bolpoint.get_stok()}\")\n",
        "    print(f\"Pensil: {pensil.get_stok()}\")\n",
        "    print(f\"Penghapus: {penghapus.get_stok()}\")"
      ],
      "metadata": {
        "colab": {
          "base_uri": "https://localhost:8080/"
        },
        "id": "dRFQz_XweXjr",
        "outputId": "0e340510-ef32-43d9-f5f9-680cd468cdcc"
      },
      "execution_count": 1,
      "outputs": [
        {
          "output_type": "stream",
          "name": "stdout",
          "text": [
            "\n",
            "Informasi Alat Tulis:\n",
            "Nama: Bolpoint, Stok: 10, Harga Satuan: 2000\n",
            "Nama: Pensil, Stok: 10, Harga Satuan: 1000\n",
            "Nama: Penghapus, Stok: 10, Harga Satuan: 500\n",
            "\n",
            "Masukkan jumlah bolpoint yang ingin dibeli (stok tersedia: 10): 3\n",
            "Transaksi berhasil! Total harga: 6000\n",
            "Masukkan jumlah pensil yang ingin dibeli (stok tersedia: 10): 8\n",
            "Transaksi berhasil! Total harga: 8000\n",
            "Masukkan jumlah penghapus yang ingin dibeli (stok tersedia: 10): 4\n",
            "Transaksi berhasil! Total harga: 2000\n",
            "\n",
            "Stok setelah transaksi:\n",
            "Bolpoint: 7\n",
            "Pensil: 2\n",
            "Penghapus: 6\n"
          ]
        }
      ]
    }
  ]
}