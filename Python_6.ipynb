{
  "nbformat": 4,
  "nbformat_minor": 0,
  "metadata": {
    "colab": {
      "provenance": []
    },
    "kernelspec": {
      "name": "python3",
      "display_name": "Python 3"
    },
    "language_info": {
      "name": "python"
    }
  },
  "cells": [
    {
      "cell_type": "markdown",
      "source": [
        "# **Weekly Exercise 1**"
      ],
      "metadata": {
        "id": "MTziSTtOyLef"
      }
    },
    {
      "cell_type": "code",
      "execution_count": null,
      "metadata": {
        "colab": {
          "base_uri": "https://localhost:8080/"
        },
        "id": "bE-YKxxLx3Za",
        "outputId": "cf3b67fe-73c4-4249-c18d-70a6640f1bc0"
      },
      "outputs": [
        {
          "output_type": "stream",
          "name": "stdout",
          "text": [
            "masukkan tinggi segitiga: 6\n",
            "     *\n",
            "    ***\n",
            "   *****\n",
            "  *******\n",
            " *********\n",
            "***********\n"
          ]
        }
      ],
      "source": [
        "t = int(input(\"masukkan tinggi segitiga: \"))\n",
        "for i in range(1,t+1):\n",
        "    print((t-i) * \" \" + (2*i-1) * \"*\")"
      ]
    },
    {
      "cell_type": "markdown",
      "source": [
        "# **Weekly Exercise 2**"
      ],
      "metadata": {
        "id": "hbhM9FMLnyDE"
      }
    },
    {
      "cell_type": "code",
      "source": [
        "n = int(input(\"Masukkan tinggi segitiga pascal: \"))\n",
        "\n",
        "for i in range(1, n+1):\n",
        "    for j in range(0, n-i+1):\n",
        "\n",
        "        print(' ', end='')\n",
        "\n",
        "    p = 1\n",
        "    for j in range(1, i+1):\n",
        "\n",
        "        print(' ', p, sep='', end='')\n",
        "\n",
        "        p = p * (i - j) // j\n",
        "    print()"
      ],
      "metadata": {
        "colab": {
          "base_uri": "https://localhost:8080/"
        },
        "id": "s76r2xBk28fI",
        "outputId": "49f0f0ba-ebf7-4fad-a8ec-bab2994e4e7d"
      },
      "execution_count": null,
      "outputs": [
        {
          "output_type": "stream",
          "name": "stdout",
          "text": [
            "Masukkan tinggi segitiga pascal: 5\n",
            "      1\n",
            "     1 1\n",
            "    1 2 1\n",
            "   1 3 3 1\n",
            "  1 4 6 4 1\n"
          ]
        }
      ]
    },
    {
      "cell_type": "markdown",
      "source": [
        "# **Weekly Exercise 3**"
      ],
      "metadata": {
        "id": "MCdU7WJxn3tG"
      }
    },
    {
      "cell_type": "code",
      "source": [
        "def jumlah_angka_per_baris(n):\n",
        "\n",
        "  if n <= 0:\n",
        "    return \"Nomor baris harus lebih dari 0\"\n",
        "\n",
        "  return 2**(n-1)\n",
        "\n",
        "baris = int(input(\"Masukkan nomor baris: \"))\n",
        "\n",
        "hasil = jumlah_angka_per_baris(baris)\n",
        "print(\"Jumlah semua angka dalam baris ke-\", baris, \"adalah\", hasil)"
      ],
      "metadata": {
        "colab": {
          "base_uri": "https://localhost:8080/"
        },
        "id": "zQvI10mi4AfQ",
        "outputId": "3768d506-8b1b-4a28-b839-7a76560e96e0"
      },
      "execution_count": 2,
      "outputs": [
        {
          "output_type": "stream",
          "name": "stdout",
          "text": [
            "Masukkan nomor baris: 5\n",
            "Jumlah semua angka dalam baris ke- 5 adalah 16\n"
          ]
        }
      ]
    }
  ]
}