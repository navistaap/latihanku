{
  "nbformat": 4,
  "nbformat_minor": 0,
  "metadata": {
    "colab": {
      "provenance": []
    },
    "kernelspec": {
      "name": "python3",
      "display_name": "Python 3"
    },
    "language_info": {
      "name": "python"
    }
  },
  "cells": [
    {
      "cell_type": "code",
      "execution_count": 15,
      "metadata": {
        "colab": {
          "base_uri": "https://localhost:8080/"
        },
        "id": "IAdk6JUZApAP",
        "outputId": "a720f4e4-be4e-46e7-91cd-1896ae15b1b2"
      },
      "outputs": [
        {
          "output_type": "stream",
          "name": "stdout",
          "text": [
            "Panjang = 20.5\n",
            "Lebar = 25\n",
            "Tinggi = 10\n",
            "Keliling = 91.0\n",
            "Luas = 512.5\n",
            "Volume = 5125.0\n"
          ]
        }
      ],
      "source": [
        "# Inisialisasi variabel untuk menyimpan panjang, lebar, dan tinggi\n",
        "panjang = 20.5\n",
        "lebar = 25\n",
        "tinggi = 10\n",
        "\n",
        "# Menghitung keliling\n",
        "keliling = 2 * (panjang + lebar)\n",
        "\n",
        "# Menghitung luas\n",
        "luas = (panjang * lebar)\n",
        "\n",
        "# Menghitung volume\n",
        "volume = panjang * lebar * tinggi\n",
        "\n",
        "# Mencetak hasil perhitungan ke layar\n",
        "print('Panjang =', panjang)\n",
        "print('Lebar =', lebar)\n",
        "print('Tinggi =', tinggi)\n",
        "print('Keliling =', keliling)\n",
        "print('Luas =', luas)\n",
        "print('Volume =', volume)"
      ]
    },
    {
      "cell_type": "code",
      "source": [
        "# Kamus data\n",
        "mahasiswa = {\n",
        "    'Shafira': [85, 75],\n",
        "    'Amanda': [80, 90],\n",
        "    'Aditya': [75, 80],\n",
        "    'Nedia': [95, 80],\n",
        "    'Widya': [85, 85],\n",
        "    'Hanif': [75, 90],\n",
        "    'Andi': [70, 75],\n",
        "    'Dhanar': [85, 85],\n",
        "    'Hikma': [80, 75]\n",
        "}\n",
        "\n",
        "# Fungsi untuk menghitung rata-rata nilai\n",
        "def hitung_rata_rata(nilai):\n",
        "    return sum(nilai) / len(nilai)\n",
        "\n",
        "# 1. Rata-rata nilai Shafira pada kedua mata kuliah\n",
        "rata_rata_shafira = hitung_rata_rata(mahasiswa[\"Shafira\"])\n",
        "print('Rata-rata nilai Shafira : ', rata_rata_shafira)\n",
        "\n",
        "# 2. Jumlah nilai Hanif dan Andi untuk semua mata kuliah\n",
        "jumlah_nilai_hanif_andi = sum(mahasiswa['Hanif']) + sum(mahasiswa['Andi'])\n",
        "print('Jumlah nilai Hanif dan Andi : ', jumlah_nilai_hanif_andi)\n",
        "\n",
        "# 3. Rata-rata nilai Widya, Dhanar, Hikma dan Nedia pada masing-masing mata kuliah\n",
        "mahasiswa_terpilih = ['Widya', 'Dhanar', 'Hikma', 'Nedia']\n",
        "jumlah_nilai_kalkulus = 0\n",
        "jumlah_nilai_statistika = 0\n",
        "for nama in mahasiswa_terpilih:\n",
        "    jumlah_nilai_kalkulus += mahasiswa[nama][0]\n",
        "    jumlah_nilai_statistika += mahasiswa[nama][1]\n",
        "rata_rata_kalkulus = jumlah_nilai_kalkulus / len(mahasiswa_terpilih)\n",
        "rata_rata_statistika = jumlah_nilai_statistika / len(mahasiswa_terpilih)\n",
        "print('Rata-rata nilai Kalkulus untuk Widya, Dhanar, Hikma, dan Nedia :', rata_rata_kalkulus)\n",
        "print('Rata-rata nilai Statistika untuk Widya, Dhanar, Hikma, dan Nedia :', rata_rata_statistika)\n",
        "\n",
        "# 4. Rata-rata nilai mata kuliah Kalkulus 1 untuk semua mahasiswa\n",
        "jumlah_nilai_kalkulus_semua = sum([nilai[0] for nilai in mahasiswa.values()])\n",
        "rata_rata_kalkulus_semua = jumlah_nilai_kalkulus_semua / len(mahasiswa)\n",
        "print('Rata-rata nilai Kalkulus 1 untuk semua mahasiswa :', rata_rata_kalkulus_semua)\n",
        "\n",
        "# 5. Rata-rata nilai mata kuliah Metode Statistika untuk semua mahasiswa\n",
        "jumlah_nilai_statistika_semua = sum([nilai[1] for nilai in mahasiswa.values()])\n",
        "rata_rata_statistika_semua = jumlah_nilai_statistika_semua / len(mahasiswa)\n",
        "print('Rata-rata nilai Metode Statistika untuk semua mahasiswa :', rata_rata_statistika_semua)\n"
      ],
      "metadata": {
        "id": "EFIjPWJsDFYe",
        "colab": {
          "base_uri": "https://localhost:8080/"
        },
        "outputId": "956a12a0-fa0e-4e35-cba0-ffdafd727054"
      },
      "execution_count": 16,
      "outputs": [
        {
          "output_type": "stream",
          "name": "stdout",
          "text": [
            "Rata-rata nilai Shafira :  80.0\n",
            "Jumlah nilai Hanif dan Andi :  310\n",
            "Rata-rata nilai Kalkulus untuk Widya, Dhanar, Hikma, dan Nedia : 86.25\n",
            "Rata-rata nilai Statistika untuk Widya, Dhanar, Hikma, dan Nedia : 81.25\n",
            "Rata-rata nilai Kalkulus 1 untuk semua mahasiswa : 81.11111111111111\n",
            "Rata-rata nilai Metode Statistika untuk semua mahasiswa : 81.66666666666667\n"
          ]
        }
      ]
    },
    {
      "cell_type": "code",
      "source": [
        "print(\"\")\n",
        "\n",
        "# Jumlah hari kerja dalam bulan Agustus (asumsi 23 hari) hari sabtu dan minggu libur\n",
        "hari_kerja_sebulan = 23\n",
        "\n",
        "# Gaji pokok per jam\n",
        "gaji_pokok_per_jam = 30000\n",
        "\n",
        "# Jam kerja per hari\n",
        "jam_kerja_per_hari = 8\n",
        "\n",
        "# Tunjangan untuk karyawan yang bekerja lebih dari 5 tahun\n",
        "tunjangan_5_tahun = 0.10  # 10%\n",
        "\n",
        "# Gaji lembur per jam\n",
        "gaji_lembur_per_jam = 10000\n",
        "\n",
        "# Hari kerja Dwi di bulan Agustus\n",
        "hari_kerja_dwi = hari_kerja_sebulan - 3  # Tidak masuk kerja selama 3 hari\n",
        "\n",
        "# 1. Gaji Dwi di bulan Agustus\n",
        "total_jam_kerja = hari_kerja_dwi * jam_kerja_per_hari\n",
        "gaji_dwi = total_jam_kerja * gaji_pokok_per_jam\n",
        "print(\"Gaji Dwi pada bulan Agustus:\", gaji_dwi)\n",
        "\n",
        "# 2. Tunjangan Dwi\n",
        "tunjangan = gaji_dwi * tunjangan_5_tahun\n",
        "print(\"Tunjangan Dwi pada bulan Agustus:\", tunjangan)\n",
        "\n",
        "# 3. Gaji total Dwi dengan lembur\n",
        "jam_lembur = 5\n",
        "gaji_lembur = jam_lembur * gaji_lembur_per_jam\n",
        "gaji_total_dwi = gaji_dwi + tunjangan + gaji_lembur\n",
        "print(\"Gaji total Dwi pada bulan Agustus dengan lembur:\", gaji_total_dwi)"
      ],
      "metadata": {
        "colab": {
          "base_uri": "https://localhost:8080/"
        },
        "id": "XC0K7hoU2Vr2",
        "outputId": "61627c38-dbbf-47fa-fe9b-6052f239fc9c"
      },
      "execution_count": 1,
      "outputs": [
        {
          "output_type": "stream",
          "name": "stdout",
          "text": [
            "\n",
            "Gaji Dwi pada bulan Agustus: 4800000\n",
            "Tunjangan Dwi pada bulan Agustus: 480000.0\n",
            "Gaji total Dwi pada bulan Agustus dengan lembur: 5330000.0\n"
          ]
        }
      ]
    },
    {
      "cell_type": "code",
      "source": [],
      "metadata": {
        "id": "QqZh1ZAT9y7i"
      },
      "execution_count": null,
      "outputs": []
    }
  ]
}