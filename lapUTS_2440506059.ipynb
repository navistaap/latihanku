{
  "nbformat": 4,
  "nbformat_minor": 0,
  "metadata": {
    "colab": {
      "provenance": []
    },
    "kernelspec": {
      "name": "python3",
      "display_name": "Python 3"
    },
    "language_info": {
      "name": "python"
    }
  },
  "cells": [
    {
      "cell_type": "code",
      "execution_count": 1,
      "metadata": {
        "colab": {
          "base_uri": "https://localhost:8080/"
        },
        "id": "idc6oJiD_vff",
        "outputId": "30d86a20-5056-4c52-939a-2b27712dea40"
      },
      "outputs": [
        {
          "output_type": "stream",
          "name": "stdout",
          "text": [
            "Masukkan NPM anda: 2440506059\n",
            "Jumlah bilangan genap: 7\n",
            "Jumlah bilangan ganjil: 3\n"
          ]
        }
      ],
      "source": [
        "npm = int(input(\"Masukkan NPM anda: \"))\n",
        "\n",
        "jumlah_genap = 0\n",
        "jumlah_ganjil = 0\n",
        "\n",
        "npm_str = str(npm)\n",
        "\n",
        "for digit in npm_str:\n",
        "    if int(digit) % 2 == 0:\n",
        "        jumlah_genap += 1\n",
        "    else:\n",
        "        jumlah_ganjil += 1\n",
        "\n",
        "print(f\"Jumlah bilangan genap: {jumlah_genap}\")\n",
        "print(f\"Jumlah bilangan ganjil: {jumlah_ganjil}\")"
      ]
    },
    {
      "cell_type": "code",
      "source": [
        "baris = int(input(\"Masukkan Jumlah Baris: \"))\n",
        "\n",
        "for i in range(1, baris + 1):\n",
        "    for j in range(1, i + 1):\n",
        "        print(i * j, end=' ')\n",
        "    print()"
      ],
      "metadata": {
        "colab": {
          "base_uri": "https://localhost:8080/"
        },
        "id": "Cm6G_ADBAFKN",
        "outputId": "dd57f942-54ad-46b9-b512-bc1d9d186532"
      },
      "execution_count": 2,
      "outputs": [
        {
          "output_type": "stream",
          "name": "stdout",
          "text": [
            "Masukkan Jumlah Baris: 10\n",
            "1 \n",
            "2 4 \n",
            "3 6 9 \n",
            "4 8 12 16 \n",
            "5 10 15 20 25 \n",
            "6 12 18 24 30 36 \n",
            "7 14 21 28 35 42 49 \n",
            "8 16 24 32 40 48 56 64 \n",
            "9 18 27 36 45 54 63 72 81 \n",
            "10 20 30 40 50 60 70 80 90 100 \n"
          ]
        }
      ]
    }
  ]
}