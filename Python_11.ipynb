{
  "nbformat": 4,
  "nbformat_minor": 0,
  "metadata": {
    "colab": {
      "provenance": []
    },
    "kernelspec": {
      "name": "python3",
      "display_name": "Python 3"
    },
    "language_info": {
      "name": "python"
    }
  },
  "cells": [
    {
      "cell_type": "code",
      "source": [
        "import matematika\n",
        "\n",
        "jari_jari = float(input(\"Masukkan jari-jari lingkaran: \"))\n",
        "sisi_persegi = float(input(\"Masukkan sisi persegi: \"))\n",
        "panjang_persegi_panjang = float(input(\"Masukkan panjang persegi panjang: \"))\n",
        "lebar_persegi_panjang = float(input(\"Masukkan lebar persegi panjang: \"))\n",
        "\n",
        "luas_lingkaran = matematika.luas_lingkaran(jari_jari)\n",
        "luas_persegi = matematika.luas_persegi(sisi_persegi)\n",
        "luas_persegi_panjang = matematika.luas_persegi_panjang(panjang_persegi_panjang, lebar_persegi_panjang)\n",
        "\n",
        "print(\"Luas lingkaran:\", luas_lingkaran)\n",
        "print(\"Luas persegi:\", luas_persegi)\n",
        "print(\"Luas persegi panjang:\", luas_persegi_panjang)"
      ],
      "metadata": {
        "id": "RIP0aT7mTY6r",
        "colab": {
          "base_uri": "https://localhost:8080/"
        },
        "outputId": "09b4628b-88b6-4fa3-f02c-a46d556a7730"
      },
      "execution_count": 4,
      "outputs": [
        {
          "output_type": "stream",
          "name": "stdout",
          "text": [
            "Masukkan jari-jari lingkaran: 7\n",
            "Masukkan sisi persegi: 8\n",
            "Masukkan panjang persegi panjang: 9\n",
            "Masukkan lebar persegi panjang: 7\n",
            "Luas lingkaran: 153.93804002589985\n",
            "Luas persegi: 64.0\n",
            "Luas persegi panjang: 63.0\n"
          ]
        }
      ]
    },
    {
      "cell_type": "code",
      "source": [
        "import math\n",
        "\n",
        "angka = 5\n",
        "print(\"Nilai absolut dari -3:\", math.fabs(-3))\n",
        "print(\"Akar kuadrat dari 25:\", math.sqrt(25))\n",
        "print(\"Nilai e pangkat 2:\", math.exp(2))\n",
        "print(\"Sinus dari 30 derajat (dalam radian):\", math.sin(math.radians(30)))\n",
        "print(\"Pembulatan ke atas dari 3.2:\", math.ceil(3.2))"
      ],
      "metadata": {
        "colab": {
          "base_uri": "https://localhost:8080/"
        },
        "id": "JlqepIlNOqsT",
        "outputId": "4191e857-6cc7-4742-e68d-826b521094e3"
      },
      "execution_count": 5,
      "outputs": [
        {
          "output_type": "stream",
          "name": "stdout",
          "text": [
            "Nilai absolut dari -3: 3.0\n",
            "Akar kuadrat dari 25: 5.0\n",
            "Nilai e pangkat 2: 7.38905609893065\n",
            "Sinus dari 30 derajat (dalam radian): 0.49999999999999994\n",
            "Pembulatan ke atas dari 3.2: 4\n"
          ]
        }
      ]
    }
  ]
}