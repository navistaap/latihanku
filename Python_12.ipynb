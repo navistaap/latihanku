{
  "nbformat": 4,
  "nbformat_minor": 0,
  "metadata": {
    "colab": {
      "provenance": []
    },
    "kernelspec": {
      "name": "python3",
      "display_name": "Python 3"
    },
    "language_info": {
      "name": "python"
    }
  },
  "cells": [
    {
      "cell_type": "code",
      "execution_count": null,
      "metadata": {
        "colab": {
          "base_uri": "https://localhost:8080/"
        },
        "id": "PNh07cxEKoCG",
        "outputId": "b9e7a67b-2415-4da1-c38d-87dcd2207363"
      },
      "outputs": [
        {
          "output_type": "stream",
          "name": "stdout",
          "text": [
            "Kalkulator Luas Bangun Datar\n",
            "Hitung luas bangun apa? (persegi, lingkaran, segitiga): persegi\n",
            "Masukkan panjang sisi: \n",
            "Hanya boleh memasukkan angka.\n",
            "Hitung luas bangun lain? (persegi, lingkaran, segitiga, selesai): selesai\n",
            "Terima kasih!\n"
          ]
        }
      ],
      "source": [
        "import math\n",
        "\n",
        "def hitung_luas(bangun_datar):\n",
        "    while True:\n",
        "        if bangun_datar == \"persegi\":\n",
        "            try:\n",
        "                sisi = float(input(\"Masukkan panjang sisi: \"))\n",
        "                luas = sisi * sisi\n",
        "                print(\"Luas persegi:\", luas)\n",
        "            except:\n",
        "                print(\"Hanya boleh memasukkan angka.\")\n",
        "            else:\n",
        "                break\n",
        "        elif bangun_datar == \"lingkaran\":\n",
        "            try:\n",
        "                jari_jari = float(input(\"Masukkan jari-jari: \"))\n",
        "                luas = math.pi * jari_jari * jari_jari\n",
        "                print(\"Luas lingkaran:\", luas)\n",
        "            except:\n",
        "                print(\"Hanya boleh memasukkan angka.\")\n",
        "            else:\n",
        "                break\n",
        "        elif bangun_datar == \"segitiga\":\n",
        "            try:\n",
        "                alas = float(input(\"Masukkan panjang alas: \"))\n",
        "                tinggi = float(input(\"Masukkan tinggi: \"))\n",
        "                luas = 0.5 * alas * tinggi\n",
        "                print(\"Luas segitiga:\", luas)\n",
        "            except:\n",
        "                print(\"Hanya boleh memasukkan angka.\")\n",
        "            else:\n",
        "                break\n",
        "        elif bangun_datar == \"selesai\":\n",
        "            print(\"Terima kasih!\")\n",
        "            return\n",
        "        else:\n",
        "            print(\"Pilihan tidak valid. Silakan pilih: persegi, lingkaran, segitiga, atau selesai\")\n",
        "\n",
        "        bangun_datar = input(\"Hitung luas bangun lain? (persegi, lingkaran, segitiga, selesai): \")\n",
        "\n",
        "def main():\n",
        "    print(\"Kalkulator Luas Bangun Datar\")\n",
        "    hitung_luas(input(\"Hitung luas bangun apa? (persegi, lingkaran, segitiga): \"))\n",
        "\n",
        "if __name__ == \"__main__\":\n",
        "    main()"
      ]
    },
    {
      "cell_type": "code",
      "source": [
        "try:\n",
        "    npm = int(input(\"Masukkan NPM anda: \"))\n",
        "\n",
        "    jumlah_genap = 0\n",
        "    jumlah_ganjil = 0\n",
        "\n",
        "    npm_str = str(npm)\n",
        "\n",
        "    for digit in npm_str:\n",
        "        if int(digit) % 2 == 0:\n",
        "            jumlah_genap += 1\n",
        "        else:\n",
        "            jumlah_ganjil += 1\n",
        "\n",
        "    print(f\"Jumlah bilangan genap: {jumlah_genap}\")\n",
        "    print(f\"Jumlah bilangan ganjil: {jumlah_ganjil}\")\n",
        "\n",
        "except:\n",
        "    print(\"NPM harus berupa bilangan bulat!\")"
      ],
      "metadata": {
        "colab": {
          "base_uri": "https://localhost:8080/"
        },
        "id": "-Pdlq7uWMNqe",
        "outputId": "6b5a49c0-7d64-45f6-ca12-6bb1dd6faf2f"
      },
      "execution_count": null,
      "outputs": [
        {
          "output_type": "stream",
          "name": "stdout",
          "text": [
            "Masukkan NPM anda: hgm\n",
            "NPM harus berupa bilangan bulat!\n"
          ]
        }
      ]
    },
    {
      "cell_type": "code",
      "source": [
        "try:\n",
        "    baris = int(input(\"Masukkan Jumlah Baris: \"))\n",
        "\n",
        "    if baris <= 0:\n",
        "        raise ValueError(\"Jumlah baris harus lebih dari 0.\")\n",
        "\n",
        "    for i in range(1, baris + 1):\n",
        "        for j in range(1, i + 1):\n",
        "            print(i * j, end=' ')\n",
        "        print()\n",
        "\n",
        "except ValueError as e:\n",
        "    print(\"Terjadi kesalahan:\", e)"
      ],
      "metadata": {
        "colab": {
          "base_uri": "https://localhost:8080/"
        },
        "id": "t8G4jsiAPLhl",
        "outputId": "e55cd0ef-a429-45af-bb50-99445e8df8c0"
      },
      "execution_count": null,
      "outputs": [
        {
          "output_type": "stream",
          "name": "stdout",
          "text": [
            "Masukkan Jumlah Baris: f\n",
            "Terjadi kesalahan: invalid literal for int() with base 10: 'f'\n"
          ]
        }
      ]
    }
  ]
}