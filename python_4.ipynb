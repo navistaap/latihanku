{
  "nbformat": 4,
  "nbformat_minor": 0,
  "metadata": {
    "colab": {
      "provenance": []
    },
    "kernelspec": {
      "name": "python3",
      "display_name": "Python 3"
    },
    "language_info": {
      "name": "python"
    }
  },
  "cells": [
    {
      "cell_type": "markdown",
      "source": [
        "**Weekly Exercise 1**"
      ],
      "metadata": {
        "id": "FneoHZx86_5B"
      }
    },
    {
      "cell_type": "code",
      "source": [
        "Umur = int(input(\"Umur = \"))\n",
        "\n",
        "if (Umur >= 17):\n",
        "  print(\"Boleh Membuat SIM\")\n",
        "else:\n",
        "  print(\"Tidak Boleh Membuat SIM\")"
      ],
      "metadata": {
        "colab": {
          "base_uri": "https://localhost:8080/"
        },
        "id": "0OsHNilTw1eY",
        "outputId": "f95320c8-6d04-43c6-d211-a283b2d2d061"
      },
      "execution_count": null,
      "outputs": [
        {
          "output_type": "stream",
          "name": "stdout",
          "text": [
            "Umur = 19\n",
            "Boleh Membuat SIM\n"
          ]
        }
      ]
    },
    {
      "cell_type": "markdown",
      "source": [
        "**Weekly Exercise 2**"
      ],
      "metadata": {
        "id": "fMD6jv7T7KYw"
      }
    },
    {
      "cell_type": "code",
      "source": [
        "Nilai = int(input(\"Nilai = \"))\n",
        "\n",
        "if Nilai >= 90:\n",
        "  print(\"Grade = A\")\n",
        "elif Nilai >=80:\n",
        "  print(\"Grade = B+\")\n",
        "elif Nilai >= 70:\n",
        "  print(\"Grade = B\")\n",
        "elif Nilai >= 60:\n",
        "  print(\"Grade = C+\")\n",
        "elif Nilai >= 50:\n",
        "  print(\"Grade = C\")\n",
        "elif Nilai >= 40:\n",
        "  print(\"Grade = D\")\n",
        "else:\n",
        "  print(\"Grade = E\")\n",
        "\n",
        "print(\"Cetak Grade\")"
      ],
      "metadata": {
        "colab": {
          "base_uri": "https://localhost:8080/"
        },
        "id": "serUx2pzxvRO",
        "outputId": "a7d61acf-33cb-4806-ba08-3d420a51f177"
      },
      "execution_count": null,
      "outputs": [
        {
          "output_type": "stream",
          "name": "stdout",
          "text": [
            "Nilai = 69\n",
            "Grade = C+\n",
            "Cetak Grade\n"
          ]
        }
      ]
    },
    {
      "cell_type": "markdown",
      "source": [
        "**Weekly Exercise 3**"
      ],
      "metadata": {
        "id": "1Znp6yxb7THH"
      }
    },
    {
      "cell_type": "code",
      "source": [
        "Nilai = float(input(\"Nilai = \"))\n",
        "\n",
        "if 80.00 <= Nilai <= 100:\n",
        "  print(\"Grade = A\")\n",
        "elif 77.50 <= Nilai <= 79.99:\n",
        "  print(\"Grade = A-\")\n",
        "elif 75.00 <= Nilai <= 77.49:\n",
        "  print(\"Grade = A/B\")\n",
        "elif 72.50 <= Nilai <= 74.99:\n",
        "  print(\"Grade = B+\")\n",
        "elif 70.00 <= Nilai <= 72.49:\n",
        "  print(\"Grade = B\")\n",
        "elif 67.50 <= Nilai <= 69.99:\n",
        "  print(\"Grade = B/C\")\n",
        "elif 65.00 <= Nilai <= 67.49:\n",
        "  print(\"Grade = C+\")\n",
        "elif 62.50 <= Nilai <= 64.99:\n",
        "  print(\"Grade = C\")\n",
        "elif 60.00 <= Nilai <= 62.49:\n",
        "  print(\"Grade = C-\")\n",
        "elif 55.00 <= Nilai <= 59.99:\n",
        "  print(\"Grade = C/D\")\n",
        "elif 50.00 <= Nilai <= 54.99:\n",
        "  print(\"Grade = D+\")\n",
        "elif 45.00 <= Nilai <= 44.99:\n",
        "  print(\"Grade = D\")\n",
        "else:\n",
        "  print(\"Grade = E\")\n",
        "\n",
        "print(\"Cetak Grade\")"
      ],
      "metadata": {
        "id": "50YSbMTr7ftZ",
        "colab": {
          "base_uri": "https://localhost:8080/"
        },
        "outputId": "9d7715ad-1d25-44a4-e73b-5629204171c7"
      },
      "execution_count": null,
      "outputs": [
        {
          "output_type": "stream",
          "name": "stdout",
          "text": [
            "Nilai = 67.90\n",
            "Grade = B/C\n",
            "Cetak Grade\n"
          ]
        }
      ]
    },
    {
      "cell_type": "code",
      "source": [],
      "metadata": {
        "id": "PflKt8Q5ZpJe"
      },
      "execution_count": null,
      "outputs": []
    }
  ]
}