{
  "nbformat": 4,
  "nbformat_minor": 0,
  "metadata": {
    "colab": {
      "provenance": []
    },
    "kernelspec": {
      "name": "python3",
      "display_name": "Python 3"
    },
    "language_info": {
      "name": "python"
    }
  },
  "cells": [
    {
      "cell_type": "markdown",
      "source": [
        "# **Weekly Exercise 1**"
      ],
      "metadata": {
        "id": "kHgCra5kuIh1"
      }
    },
    {
      "cell_type": "code",
      "execution_count": null,
      "metadata": {
        "id": "mmLZuktfxjf7",
        "colab": {
          "base_uri": "https://localhost:8080/"
        },
        "outputId": "c3df196d-05e3-438c-a9b6-18ed6fa7a078"
      },
      "outputs": [
        {
          "output_type": "stream",
          "name": "stdout",
          "text": [
            "Tahun = 2023\n",
            "Bukan Tahun Kabisat\n"
          ]
        }
      ],
      "source": [
        "Tahun = int(input(\"Tahun = \"))\n",
        "if (Tahun % 4) == 0:\n",
        "    if (Tahun % 100) == 0:\n",
        "        if (Tahun % 400) == 0:\n",
        "            print(\"Tahun Kabisat\")\n",
        "        else:\n",
        "            print(\"Bukan Tahun Kabisat\")\n",
        "    else:\n",
        "        print(\"Tahun Kabisat\")\n",
        "else:\n",
        "    print(\"Bukan Tahun Kabisat\")\n"
      ]
    },
    {
      "cell_type": "code",
      "source": [
        "Tahun = int(input(\"Tahun = \"))\n",
        "if (Tahun % 4) == 0:\n",
        "    if (Tahun % 100) == 0:\n",
        "        if (Tahun % 400) == 0:\n",
        "            print(\"Tahun Kabisat\")\n",
        "        else:\n",
        "            print(\"Bukan Tahun Kabisat\")\n",
        "    else:\n",
        "        print(\"Tahun Kabisat\")\n",
        "else:\n",
        "    print(\"Bukan Tahun Kabisat\")"
      ],
      "metadata": {
        "colab": {
          "base_uri": "https://localhost:8080/"
        },
        "id": "vHt89oXzj4AX",
        "outputId": "434e579a-3adf-4334-b79c-c66890559a00"
      },
      "execution_count": null,
      "outputs": [
        {
          "output_type": "stream",
          "name": "stdout",
          "text": [
            "Tahun = 2024\n",
            "Tahun Kabisat\n"
          ]
        }
      ]
    },
    {
      "cell_type": "markdown",
      "source": [
        "# **Weekly Exercise 2**"
      ],
      "metadata": {
        "id": "4LDF-9CnjW2Q"
      }
    },
    {
      "cell_type": "code",
      "source": [
        "\n",
        "angka1 = int(input(\"Masukkan angka pertama: \"))\n",
        "angka2 = int(input(\"Masukkan angka kedua: \"))\n",
        "angka3 = int(input(\"Masukkan angka ketiga: \"))\n",
        "\n",
        "terbesar = angka1\n",
        "if angka2 > terbesar:\n",
        "    terbesar = angka2\n",
        "if angka3 > terbesar:\n",
        "    terbesar = angka3\n",
        "print(\"\")\n",
        "print(f\"{angka1},{angka2},{angka3}\")\n",
        "print(\"Angka terbesar adalah:\", terbesar)\n"
      ],
      "metadata": {
        "id": "Nzml3RfZ-UzG",
        "colab": {
          "base_uri": "https://localhost:8080/"
        },
        "outputId": "02891499-8411-4d74-c06a-0e384d754914"
      },
      "execution_count": null,
      "outputs": [
        {
          "output_type": "stream",
          "name": "stdout",
          "text": [
            "Masukkan angka pertama: 2\n",
            "Masukkan angka kedua: 10\n",
            "Masukkan angka ketiga: 1\n",
            "\n",
            "2,10,1\n",
            "Angka terbesar adalah: 10\n"
          ]
        }
      ]
    },
    {
      "cell_type": "markdown",
      "source": [
        "# **Weekly Exercise 3**"
      ],
      "metadata": {
        "id": "QEJIOD-YjfbN"
      }
    },
    {
      "cell_type": "code",
      "source": [
        "def hitung_total_bayar(total_belanja, is_member):\n",
        "\n",
        "  diskon = 0\n",
        "  if total_belanja > 200000:\n",
        "    diskon = 0.04\n",
        "  elif total_belanja > 100000:\n",
        "    diskon = 0.03\n",
        "\n",
        "  if is_member:\n",
        "    diskon += 0.02\n",
        "\n",
        "  total_bayar = total_belanja * (1 - diskon)\n",
        "  return total_bayar\n",
        "\n",
        "total_belanja = float(input(\"Masukkan total belanja: \"))\n",
        "is_member = input(\"Apakah Anda member? (y/n): \").lower() == \"y\" #y untuk yes, n untuk no\n",
        "\n",
        "total_bayar = hitung_total_bayar(total_belanja, is_member)\n",
        "\n",
        "print(\"Total yang harus dibayar: Rp\", total_bayar)"
      ],
      "metadata": {
        "colab": {
          "base_uri": "https://localhost:8080/"
        },
        "id": "tZVThqe_wgHL",
        "outputId": "a7cd3d99-e594-4d66-ee8e-cf57df4112f6"
      },
      "execution_count": null,
      "outputs": [
        {
          "output_type": "stream",
          "name": "stdout",
          "text": [
            "Masukkan total belanja: 600000\n",
            "Apakah Anda member? (y/n): y\n",
            "Total yang harus dibayar: Rp 564000.0\n"
          ]
        }
      ]
    },
    {
      "cell_type": "code",
      "source": [
        "def hitung_total_bayar(total_belanja, is_member):\n",
        "\n",
        "  diskon = 0\n",
        "  if total_belanja > 200000:\n",
        "    diskon = 0.04\n",
        "  elif total_belanja > 100000:\n",
        "    diskon = 0.03\n",
        "\n",
        "  if is_member:\n",
        "    diskon += 0.02\n",
        "\n",
        "  total_bayar = total_belanja * (1 - diskon)\n",
        "  return total_bayar\n",
        "\n",
        "total_belanja = float(input(\"Masukkan total belanja: \"))\n",
        "is_member = input(\"Apakah Anda member? (y/n): \").lower() == \"y\" #y untuk yes, n untuk no\n",
        "\n",
        "total_bayar = hitung_total_bayar(total_belanja, is_member)\n",
        "\n",
        "print(\"Total yang harus dibayar: Rp\", total_bayar)"
      ],
      "metadata": {
        "colab": {
          "base_uri": "https://localhost:8080/"
        },
        "id": "37Se_QbfksCz",
        "outputId": "5e9cc1f3-50d8-4d84-eba3-2db24a0d441f"
      },
      "execution_count": null,
      "outputs": [
        {
          "output_type": "stream",
          "name": "stdout",
          "text": [
            "Masukkan total belanja: 600000\n",
            "Apakah Anda member? (y/n): n\n",
            "Total yang harus dibayar: Rp 576000.0\n"
          ]
        }
      ]
    },
    {
      "cell_type": "markdown",
      "source": [
        "# **Weekly Exercise 4**"
      ],
      "metadata": {
        "id": "HvDerM6Njjo2"
      }
    },
    {
      "cell_type": "code",
      "source": [
        "def buat_user_baru():\n",
        "\n",
        "  username = input(\"Masukkan username: \")\n",
        "  email = input(\"Masukkan email: \")\n",
        "  password = input(\"Masukkan password (minimal 8 karakter): \")\n",
        "\n",
        "  if not username:\n",
        "    print(\"Username tidak boleh kosong.\")\n",
        "\n",
        "  if \"@\" not in email:\n",
        "    print(\"Alamat email tidak valid.\")\n",
        "\n",
        "  if len(password) < 8:\n",
        "    print(\"Password harus minimal 8 karakter.\")\n",
        "\n",
        "  else:\n",
        "    print(\"User berhasil dibuat!\")\n",
        "\n",
        "buat_user_baru()"
      ],
      "metadata": {
        "colab": {
          "base_uri": "https://localhost:8080/"
        },
        "id": "DOpSwJ571FRk",
        "outputId": "5544f679-baee-46c7-bc17-77b4ff1107aa"
      },
      "execution_count": 3,
      "outputs": [
        {
          "output_type": "stream",
          "name": "stdout",
          "text": [
            "Masukkan username: \n",
            "Masukkan email: \n",
            "Masukkan password (minimal 8 karakter): \n",
            "Username tidak boleh kosong.\n",
            "Alamat email tidak valid.\n",
            "Password harus minimal 8 karakter.\n"
          ]
        }
      ]
    },
    {
      "cell_type": "code",
      "source": [
        "def buat_user_baru():\n",
        "\n",
        "  username = input(\"Masukkan username: \")\n",
        "  email = input(\"Masukkan email: \")\n",
        "  password = input(\"Masukkan password (minimal 8 karakter): \")\n",
        "\n",
        "  if not username:\n",
        "    print(\"Username tidak boleh kosong.\")\n",
        "\n",
        "  if \"@\" not in email:\n",
        "    print(\"Alamat email tidak valid.\")\n",
        "\n",
        "  if len(password) < 8:\n",
        "    print(\"Password harus minimal 8 karakter.\")\n",
        "\n",
        "  else:\n",
        "    print(\"User berhasil dibuat!\")\n",
        "\n",
        "buat_user_baru()"
      ],
      "metadata": {
        "id": "3Rzmlma5g9tN",
        "colab": {
          "base_uri": "https://localhost:8080/"
        },
        "outputId": "9e24f040-142d-4fd1-c206-dec6c8e745df"
      },
      "execution_count": 4,
      "outputs": [
        {
          "output_type": "stream",
          "name": "stdout",
          "text": [
            "Masukkan username: vista\n",
            "Masukkan email: vista@gmail.com\n",
            "Masukkan password (minimal 8 karakter): inivista\n",
            "User berhasil dibuat!\n"
          ]
        }
      ]
    }
  ]
}