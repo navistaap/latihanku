{
  "nbformat": 4,
  "nbformat_minor": 0,
  "metadata": {
    "colab": {
      "provenance": []
    },
    "kernelspec": {
      "name": "python3",
      "display_name": "Python 3"
    },
    "language_info": {
      "name": "python"
    }
  },
  "cells": [
    {
      "cell_type": "code",
      "execution_count": null,
      "metadata": {
        "colab": {
          "base_uri": "https://localhost:8080/"
        },
        "id": "7h-Sd1kECyqn",
        "outputId": "e7d5735f-09cd-4637-97b9-e0ca7a93074a"
      },
      "outputs": [
        {
          "output_type": "stream",
          "name": "stdout",
          "text": [
            "Masukkan bilangan: 5\n",
            "Faktorial dari 5 adalah 120\n"
          ]
        }
      ],
      "source": [
        "def faktorial(x):\n",
        "  if x == 1:\n",
        "    return 1\n",
        "  else:\n",
        "    return x * faktorial(x-1)\n",
        "\n",
        "bilangan = int(input(\"Masukkan bilangan: \"))\n",
        "hasil = faktorial(bilangan)\n",
        "print(\"Faktorial dari\", bilangan, \"adalah\", hasil)"
      ]
    },
    {
      "cell_type": "code",
      "source": [
        "def hitung_luas(bangun_datar):\n",
        "    if bangun_datar == \"persegi\":\n",
        "        sisi = float(input(\"Masukkan panjang sisi: \"))\n",
        "        luas = sisi * sisi\n",
        "        print(\"Luas persegi:\", luas)\n",
        "        return hitung_luas(input(\"Hitung luas bangun lain? (persegi, lingkaran, segitiga, selesai): \"))\n",
        "    elif bangun_datar == \"lingkaran\":\n",
        "        jari_jari = float(input(\"Masukkan jari-jari: \"))\n",
        "        luas = math.pi * jari_jari * jari_jari\n",
        "        print(\"Luas lingkaran:\", luas)\n",
        "        return hitung_luas(input(\"Hitung luas bangun lain? (persegi, lingkaran, segitiga, selesai): \"))\n",
        "    elif bangun_datar == \"segitiga\":\n",
        "        alas = float(input(\"Masukkan panjang alas: \"))\n",
        "        tinggi = float(input(\"Masukkan tinggi: \"))\n",
        "        luas = 0.5 * alas * tinggi\n",
        "        print(\"Luas segitiga:\", luas)\n",
        "        return hitung_luas(input(\"Hitung luas bangun lain? (persegi, lingkaran, segitiga, selesai): \"))\n",
        "    elif bangun_datar == \"selesai\":\n",
        "        print(\"Terima kasih!\")\n",
        "        return\n",
        "    else:\n",
        "        print(\"Pilihan tidak valid. Silakan pilih: persegi, lingkaran, segitiga, atau selesai\")\n",
        "        return hitung_luas(input(\"Hitung luas bangun lain? (persegi, lingkaran, segitiga, selesai): \"))\n",
        "\n",
        "def main():\n",
        "    print(\"Kalkulator Luas Bangun Datar\")\n",
        "    hitung_luas(input(\"Hitung luas bangun apa? (persegi, lingkaran, segitiga): \"))\n",
        "\n",
        "if __name__ == \"__main__\":\n",
        "    main()"
      ],
      "metadata": {
        "colab": {
          "base_uri": "https://localhost:8080/",
          "height": 495
        },
        "id": "TrwpAcDiEyxU",
        "outputId": "161fd590-b5ed-4923-94e9-69043da9906a"
      },
      "execution_count": null,
      "outputs": [
        {
          "name": "stdout",
          "output_type": "stream",
          "text": [
            "Kalkulator Luas Bangun Datar\n",
            "Hitung luas bangun apa? (persegi, lingkaran, segitiga): lingkaran\n",
            "Masukkan jari-jari: 7\n",
            "Luas lingkaran: 153.93804002589985\n",
            "Hitung luas bangun lain? (persegi, lingkaran, segitiga, selesai): persegi\n",
            "Masukkan panjang sisi: 4\n",
            "Luas persegi: 16.0\n",
            "Hitung luas bangun lain? (persegi, lingkaran, segitiga, selesai): segitiga\n",
            "Masukkan panjang alas: 5\n",
            "Masukkan tinggi: 4'\n"
          ]
        },
        {
          "output_type": "error",
          "ename": "ValueError",
          "evalue": "could not convert string to float: \"4'\"",
          "traceback": [
            "\u001b[0;31m---------------------------------------------------------------------------\u001b[0m",
            "\u001b[0;31mValueError\u001b[0m                                Traceback (most recent call last)",
            "\u001b[0;32m<ipython-input-2-3ef3e54fab18>\u001b[0m in \u001b[0;36m<cell line: 29>\u001b[0;34m()\u001b[0m\n\u001b[1;32m     28\u001b[0m \u001b[0;34m\u001b[0m\u001b[0m\n\u001b[1;32m     29\u001b[0m \u001b[0;32mif\u001b[0m \u001b[0m__name__\u001b[0m \u001b[0;34m==\u001b[0m \u001b[0;34m\"__main__\"\u001b[0m\u001b[0;34m:\u001b[0m\u001b[0;34m\u001b[0m\u001b[0;34m\u001b[0m\u001b[0m\n\u001b[0;32m---> 30\u001b[0;31m     \u001b[0mmain\u001b[0m\u001b[0;34m(\u001b[0m\u001b[0;34m)\u001b[0m\u001b[0;34m\u001b[0m\u001b[0;34m\u001b[0m\u001b[0m\n\u001b[0m",
            "\u001b[0;32m<ipython-input-2-3ef3e54fab18>\u001b[0m in \u001b[0;36mmain\u001b[0;34m()\u001b[0m\n\u001b[1;32m     25\u001b[0m \u001b[0;32mdef\u001b[0m \u001b[0mmain\u001b[0m\u001b[0;34m(\u001b[0m\u001b[0;34m)\u001b[0m\u001b[0;34m:\u001b[0m\u001b[0;34m\u001b[0m\u001b[0;34m\u001b[0m\u001b[0m\n\u001b[1;32m     26\u001b[0m     \u001b[0mprint\u001b[0m\u001b[0;34m(\u001b[0m\u001b[0;34m\"Kalkulator Luas Bangun Datar\"\u001b[0m\u001b[0;34m)\u001b[0m\u001b[0;34m\u001b[0m\u001b[0;34m\u001b[0m\u001b[0m\n\u001b[0;32m---> 27\u001b[0;31m     \u001b[0mhitung_luas\u001b[0m\u001b[0;34m(\u001b[0m\u001b[0minput\u001b[0m\u001b[0;34m(\u001b[0m\u001b[0;34m\"Hitung luas bangun apa? (persegi, lingkaran, segitiga): \"\u001b[0m\u001b[0;34m)\u001b[0m\u001b[0;34m)\u001b[0m\u001b[0;34m\u001b[0m\u001b[0;34m\u001b[0m\u001b[0m\n\u001b[0m\u001b[1;32m     28\u001b[0m \u001b[0;34m\u001b[0m\u001b[0m\n\u001b[1;32m     29\u001b[0m \u001b[0;32mif\u001b[0m \u001b[0m__name__\u001b[0m \u001b[0;34m==\u001b[0m \u001b[0;34m\"__main__\"\u001b[0m\u001b[0;34m:\u001b[0m\u001b[0;34m\u001b[0m\u001b[0;34m\u001b[0m\u001b[0m\n",
            "\u001b[0;32m<ipython-input-2-3ef3e54fab18>\u001b[0m in \u001b[0;36mhitung_luas\u001b[0;34m(bangun_datar)\u001b[0m\n\u001b[1;32m      9\u001b[0m         \u001b[0mluas\u001b[0m \u001b[0;34m=\u001b[0m \u001b[0mmath\u001b[0m\u001b[0;34m.\u001b[0m\u001b[0mpi\u001b[0m \u001b[0;34m*\u001b[0m \u001b[0mjari_jari\u001b[0m \u001b[0;34m*\u001b[0m \u001b[0mjari_jari\u001b[0m\u001b[0;34m\u001b[0m\u001b[0;34m\u001b[0m\u001b[0m\n\u001b[1;32m     10\u001b[0m         \u001b[0mprint\u001b[0m\u001b[0;34m(\u001b[0m\u001b[0;34m\"Luas lingkaran:\"\u001b[0m\u001b[0;34m,\u001b[0m \u001b[0mluas\u001b[0m\u001b[0;34m)\u001b[0m\u001b[0;34m\u001b[0m\u001b[0;34m\u001b[0m\u001b[0m\n\u001b[0;32m---> 11\u001b[0;31m         \u001b[0;32mreturn\u001b[0m \u001b[0mhitung_luas\u001b[0m\u001b[0;34m(\u001b[0m\u001b[0minput\u001b[0m\u001b[0;34m(\u001b[0m\u001b[0;34m\"Hitung luas bangun lain? (persegi, lingkaran, segitiga, selesai): \"\u001b[0m\u001b[0;34m)\u001b[0m\u001b[0;34m)\u001b[0m\u001b[0;34m\u001b[0m\u001b[0;34m\u001b[0m\u001b[0m\n\u001b[0m\u001b[1;32m     12\u001b[0m     \u001b[0;32melif\u001b[0m \u001b[0mbangun_datar\u001b[0m \u001b[0;34m==\u001b[0m \u001b[0;34m\"segitiga\"\u001b[0m\u001b[0;34m:\u001b[0m\u001b[0;34m\u001b[0m\u001b[0;34m\u001b[0m\u001b[0m\n\u001b[1;32m     13\u001b[0m         \u001b[0malas\u001b[0m \u001b[0;34m=\u001b[0m \u001b[0mfloat\u001b[0m\u001b[0;34m(\u001b[0m\u001b[0minput\u001b[0m\u001b[0;34m(\u001b[0m\u001b[0;34m\"Masukkan panjang alas: \"\u001b[0m\u001b[0;34m)\u001b[0m\u001b[0;34m)\u001b[0m\u001b[0;34m\u001b[0m\u001b[0;34m\u001b[0m\u001b[0m\n",
            "\u001b[0;32m<ipython-input-2-3ef3e54fab18>\u001b[0m in \u001b[0;36mhitung_luas\u001b[0;34m(bangun_datar)\u001b[0m\n\u001b[1;32m      4\u001b[0m         \u001b[0mluas\u001b[0m \u001b[0;34m=\u001b[0m \u001b[0msisi\u001b[0m \u001b[0;34m*\u001b[0m \u001b[0msisi\u001b[0m\u001b[0;34m\u001b[0m\u001b[0;34m\u001b[0m\u001b[0m\n\u001b[1;32m      5\u001b[0m         \u001b[0mprint\u001b[0m\u001b[0;34m(\u001b[0m\u001b[0;34m\"Luas persegi:\"\u001b[0m\u001b[0;34m,\u001b[0m \u001b[0mluas\u001b[0m\u001b[0;34m)\u001b[0m\u001b[0;34m\u001b[0m\u001b[0;34m\u001b[0m\u001b[0m\n\u001b[0;32m----> 6\u001b[0;31m         \u001b[0;32mreturn\u001b[0m \u001b[0mhitung_luas\u001b[0m\u001b[0;34m(\u001b[0m\u001b[0minput\u001b[0m\u001b[0;34m(\u001b[0m\u001b[0;34m\"Hitung luas bangun lain? (persegi, lingkaran, segitiga, selesai): \"\u001b[0m\u001b[0;34m)\u001b[0m\u001b[0;34m)\u001b[0m\u001b[0;34m\u001b[0m\u001b[0;34m\u001b[0m\u001b[0m\n\u001b[0m\u001b[1;32m      7\u001b[0m     \u001b[0;32melif\u001b[0m \u001b[0mbangun_datar\u001b[0m \u001b[0;34m==\u001b[0m \u001b[0;34m\"lingkaran\"\u001b[0m\u001b[0;34m:\u001b[0m\u001b[0;34m\u001b[0m\u001b[0;34m\u001b[0m\u001b[0m\n\u001b[1;32m      8\u001b[0m         \u001b[0mjari_jari\u001b[0m \u001b[0;34m=\u001b[0m \u001b[0mfloat\u001b[0m\u001b[0;34m(\u001b[0m\u001b[0minput\u001b[0m\u001b[0;34m(\u001b[0m\u001b[0;34m\"Masukkan jari-jari: \"\u001b[0m\u001b[0;34m)\u001b[0m\u001b[0;34m)\u001b[0m\u001b[0;34m\u001b[0m\u001b[0;34m\u001b[0m\u001b[0m\n",
            "\u001b[0;32m<ipython-input-2-3ef3e54fab18>\u001b[0m in \u001b[0;36mhitung_luas\u001b[0;34m(bangun_datar)\u001b[0m\n\u001b[1;32m     12\u001b[0m     \u001b[0;32melif\u001b[0m \u001b[0mbangun_datar\u001b[0m \u001b[0;34m==\u001b[0m \u001b[0;34m\"segitiga\"\u001b[0m\u001b[0;34m:\u001b[0m\u001b[0;34m\u001b[0m\u001b[0;34m\u001b[0m\u001b[0m\n\u001b[1;32m     13\u001b[0m         \u001b[0malas\u001b[0m \u001b[0;34m=\u001b[0m \u001b[0mfloat\u001b[0m\u001b[0;34m(\u001b[0m\u001b[0minput\u001b[0m\u001b[0;34m(\u001b[0m\u001b[0;34m\"Masukkan panjang alas: \"\u001b[0m\u001b[0;34m)\u001b[0m\u001b[0;34m)\u001b[0m\u001b[0;34m\u001b[0m\u001b[0;34m\u001b[0m\u001b[0m\n\u001b[0;32m---> 14\u001b[0;31m         \u001b[0mtinggi\u001b[0m \u001b[0;34m=\u001b[0m \u001b[0mfloat\u001b[0m\u001b[0;34m(\u001b[0m\u001b[0minput\u001b[0m\u001b[0;34m(\u001b[0m\u001b[0;34m\"Masukkan tinggi: \"\u001b[0m\u001b[0;34m)\u001b[0m\u001b[0;34m)\u001b[0m\u001b[0;34m\u001b[0m\u001b[0;34m\u001b[0m\u001b[0m\n\u001b[0m\u001b[1;32m     15\u001b[0m         \u001b[0mluas\u001b[0m \u001b[0;34m=\u001b[0m \u001b[0;36m0.5\u001b[0m \u001b[0;34m*\u001b[0m \u001b[0malas\u001b[0m \u001b[0;34m*\u001b[0m \u001b[0mtinggi\u001b[0m\u001b[0;34m\u001b[0m\u001b[0;34m\u001b[0m\u001b[0m\n\u001b[1;32m     16\u001b[0m         \u001b[0mprint\u001b[0m\u001b[0;34m(\u001b[0m\u001b[0;34m\"Luas segitiga:\"\u001b[0m\u001b[0;34m,\u001b[0m \u001b[0mluas\u001b[0m\u001b[0;34m)\u001b[0m\u001b[0;34m\u001b[0m\u001b[0;34m\u001b[0m\u001b[0m\n",
            "\u001b[0;31mValueError\u001b[0m: could not convert string to float: \"4'\""
          ]
        }
      ]
    },
    {
      "cell_type": "code",
      "source": [],
      "metadata": {
        "id": "LaDw6GkWIDVC"
      },
      "execution_count": null,
      "outputs": []
    }
  ]
}